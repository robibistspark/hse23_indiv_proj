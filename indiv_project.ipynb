{
 "cells": [
  {
   "cell_type": "markdown",
   "metadata": {},
   "source": [
    "### Эти команды я запускал на сервере"
   ]
  },
  {
   "cell_type": "code",
   "execution_count": 2,
   "metadata": {},
   "outputs": [],
   "source": [
    "!blastp -query RAG2_protein_sequence.fasta  -db /mnt/storage/project_2023/proteomes/human.faa  -out blasts/human.blast  -outfmt 7\n",
    "!blastp -query RAG2_protein_sequence.fasta  -db /mnt/storage/project_2023/proteomes/mouse.faa  -out blasts/mouse.blast  -outfmt 7\n",
    "!blastp -query RAG2_protein_sequence.fasta  -db /mnt/storage/project_2023/proteomes/zebrafish.faa  -out blasts/zebrafish.blast  -outfmt 7\n",
    "!blastp -query RAG2_protein_sequence.fasta  -db /mnt/storage/project_2023/proteomes/drosophila.faa  -out blasts/drosophila.blast  -outfmt 7\n",
    "!blastp -query RAG2_protein_sequence.fasta  -db /mnt/storage/project_2023/proteomes/c.elegans.faa  -out blasts/c.elegans.blast  -outfmt 7\n",
    "!blastp -query RAG2_protein_sequence.fasta  -db /mnt/storage/project_2023/proteomes/ciliate.faa  -out blasts/ciliate.blast  -outfmt 7\n",
    "!blastp -query RAG2_protein_sequence.fasta  -db /mnt/storage/project_2023/proteomes/yeast.faa  -out blasts/yeast.blast  -outfmt 7\n",
    "!blastp -query RAG2_protein_sequence.fasta  -db /mnt/storage/project_2023/proteomes/methanocaldococcus.faa  -out blasts/methanocaldococcus.blast  -outfmt 7\n",
    "!blastp -query RAG2_protein_sequence.fasta  -db /mnt/storage/project_2023/proteomes/thermococcus.faa  -out blasts/thermococcus.blast  -outfmt 7\n",
    "!blastp -query RAG2_protein_sequence.fasta  -db /mnt/storage/project_2023/proteomes/e.coli.faa  -out blasts/e.coli.blast  -outfmt 7\n",
    "!blastp -query RAG2_protein_sequence.fasta  -db /mnt/storage/project_2023/proteomes/tuberculosis.faa  -out blasts/tuberculosis.blast  -outfmt 7"
   ]
  },
  {
   "cell_type": "code",
   "execution_count": null,
   "metadata": {},
   "outputs": [],
   "source": [
    "!blastp  -query histone_single/H2A_single.fa  -db /mnt/storage/project_2023/proteomes/human.faa  -outfmt 7  >  histone_single/H2A_single/human.blast\n",
    "!blastp  -query histone_single/H2A_single.fa  -db /mnt/storage/project_2023/proteomes/mouse.faa  -outfmt 7  >  histone_single/H2A_single/mouse.blast\n",
    "!blastp  -query histone_single/H2A_single.fa  -db /mnt/storage/project_2023/proteomes/zebrafish.faa  -outfmt 7  >  histone_single/H2A_single/zebrafish.blast\n",
    "!blastp  -query histone_single/H2A_single.fa  -db /mnt/storage/project_2023/proteomes/drosophila.faa  -outfmt 7  >  histone_single/H2A_single/drosophila.blast\n",
    "!blastp  -query histone_single/H2A_single.fa  -db /mnt/storage/project_2023/proteomes/c.elegans.faa  -outfmt 7  >  histone_single/H2A_single/c.elegans.blast\n",
    "!blastp  -query histone_single/H2A_single.fa  -db /mnt/storage/project_2023/proteomes/ciliate.faa  -outfmt 7  >  histone_single/H2A_single/ciliate.blast\n",
    "!blastp  -query histone_single/H2A_single.fa  -db /mnt/storage/project_2023/proteomes/yeast.faa  -outfmt 7  >  histone_single/H2A_single/yeast.blast\n",
    "!blastp  -query histone_single/H2A_single.fa  -db /mnt/storage/project_2023/proteomes/methanocaldococcus.faa  -outfmt 7  >  histone_single/H2A_single/methanocaldococcus.blast\n",
    "!blastp  -query histone_single/H2A_single.fa  -db /mnt/storage/project_2023/proteomes/thermococcus.faa  -outfmt 7  >  histone_single/H2A_single/thermococcus.blast\n",
    "!blastp  -query histone_single/H2A_single.fa  -db /mnt/storage/project_2023/proteomes/e.coli.faa  -outfmt 7  >  histone_single/H2A_single/e.coli.blast\n",
    "!blastp  -query histone_single/H2A_single.fa  -db /mnt/storage/project_2023/proteomes/tuberculosis.faa  -outfmt 7  >  histone_single/H2A_single/tuberculosis.blast"
   ]
  },
  {
   "cell_type": "code",
   "execution_count": null,
   "metadata": {},
   "outputs": [],
   "source": [
    "!blastp  -query histone_single/H2B_single.fa  -db /mnt/storage/project_2023/proteomes/human.faa  -outfmt 7  >  histone_single/H2B_single/human.blast\n",
    "!blastp  -query histone_single/H2B_single.fa  -db /mnt/storage/project_2023/proteomes/mouse.faa  -outfmt 7  >  histone_single/H2B_single/mouse.blast\n",
    "!blastp  -query histone_single/H2B_single.fa  -db /mnt/storage/project_2023/proteomes/zebrafish.faa  -outfmt 7  >  histone_single/H2B_single/zebrafish.blast\n",
    "!blastp  -query histone_single/H2B_single.fa  -db /mnt/storage/project_2023/proteomes/drosophila.faa  -outfmt 7  >  histone_single/H2B_single/drosophila.blast\n",
    "!blastp  -query histone_single/H2B_single.fa  -db /mnt/storage/project_2023/proteomes/c.elegans.faa  -outfmt 7  >  histone_single/H2B_single/c.elegans.blast\n",
    "!blastp  -query histone_single/H2B_single.fa  -db /mnt/storage/project_2023/proteomes/ciliate.faa  -outfmt 7  >  histone_single/H2B_single/ciliate.blast\n",
    "!blastp  -query histone_single/H2B_single.fa  -db /mnt/storage/project_2023/proteomes/yeast.faa  -outfmt 7  >  histone_single/H2B_single/yeast.blast\n",
    "!blastp  -query histone_single/H2B_single.fa  -db /mnt/storage/project_2023/proteomes/methanocaldococcus.faa  -outfmt 7  >  histone_single/H2B_single/methanocaldococcus.blast\n",
    "!blastp  -query histone_single/H2B_single.fa  -db /mnt/storage/project_2023/proteomes/thermococcus.faa  -outfmt 7  >  histone_single/H2B_single/thermococcus.blast\n",
    "!blastp  -query histone_single/H2B_single.fa  -db /mnt/storage/project_2023/proteomes/e.coli.faa  -outfmt 7  >  histone_single/H2B_single/e.coli.blast\n",
    "!blastp  -query histone_single/H2B_single.fa  -db /mnt/storage/project_2023/proteomes/tuberculosis.faa  -outfmt 7  >  histone_single/H2B_single/tuberculosis.blast"
   ]
  },
  {
   "cell_type": "code",
   "execution_count": null,
   "metadata": {},
   "outputs": [],
   "source": [
    "!blastp  -query histone_single/H3_single.fa  -db /mnt/storage/project_2023/proteomes/human.faa  -outfmt 7  >  histone_single/H3_single/human.blast\n",
    "!blastp  -query histone_single/H3_single.fa  -db /mnt/storage/project_2023/proteomes/mouse.faa  -outfmt 7  >  histone_single/H3_single/mouse.blast\n",
    "!blastp  -query histone_single/H3_single.fa  -db /mnt/storage/project_2023/proteomes/zebrafish.faa  -outfmt 7  >  histone_single/H3_single/zebrafish.blast\n",
    "!blastp  -query histone_single/H3_single.fa  -db /mnt/storage/project_2023/proteomes/drosophila.faa  -outfmt 7  >  histone_single/H3_single/drosophila.blast\n",
    "!blastp  -query histone_single/H3_single.fa  -db /mnt/storage/project_2023/proteomes/c.elegans.faa  -outfmt 7  >  histone_single/H3_single/c.elegans.blast\n",
    "!blastp  -query histone_single/H3_single.fa  -db /mnt/storage/project_2023/proteomes/ciliate.faa  -outfmt 7  >  histone_single/H3_single/ciliate.blast\n",
    "!blastp  -query histone_single/H3_single.fa  -db /mnt/storage/project_2023/proteomes/yeast.faa  -outfmt 7  >  histone_single/H3_single/yeast.blast\n",
    "!blastp  -query histone_single/H3_single.fa  -db /mnt/storage/project_2023/proteomes/methanocaldococcus.faa  -outfmt 7  >  histone_single/H3_single/methanocaldococcus.blast\n",
    "!blastp  -query histone_single/H3_single.fa  -db /mnt/storage/project_2023/proteomes/thermococcus.faa  -outfmt 7  >  histone_single/H3_single/thermococcus.blast\n",
    "!blastp  -query histone_single/H3_single.fa  -db /mnt/storage/project_2023/proteomes/e.coli.faa  -outfmt 7  >  histone_single/H3_single/e.coli.blast\n",
    "!blastp  -query histone_single/H3_single.fa  -db /mnt/storage/project_2023/proteomes/tuberculosis.faa  -outfmt 7  >  histone_single/H3_single/tuberculosis.blast"
   ]
  },
  {
   "cell_type": "markdown",
   "metadata": {},
   "source": [
    "Я брал первый вариант последовательности в файле гистона"
   ]
  },
  {
   "cell_type": "code",
   "execution_count": null,
   "metadata": {},
   "outputs": [],
   "source": [
    "!blastp  -query histone_single/H4_single.fa  -db /mnt/storage/project_2023/proteomes/human.faa  -outfmt 7  >  histone_single/H4_single/human.blast\n",
    "!blastp  -query histone_single/H4_single.fa  -db /mnt/storage/project_2023/proteomes/mouse.faa  -outfmt 7  >  histone_single/H4_single/mouse.blast\n",
    "!blastp  -query histone_single/H4_single.fa  -db /mnt/storage/project_2023/proteomes/zebrafish.faa  -outfmt 7  >  histone_single/H4_single/zebrafish.blast\n",
    "!blastp  -query histone_single/H4_single.fa  -db /mnt/storage/project_2023/proteomes/drosophila.faa  -outfmt 7  >  histone_single/H4_single/drosophila.blast\n",
    "!blastp  -query histone_single/H4_single.fa  -db /mnt/storage/project_2023/proteomes/c.elegans.faa  -outfmt 7  >  histone_single/H4_single/c.elegans.blast\n",
    "!blastp  -query histone_single/H4_single.fa  -db /mnt/storage/project_2023/proteomes/ciliate.faa  -outfmt 7  >  histone_single/H4_single/ciliate.blast\n",
    "!blastp  -query histone_single/H4_single.fa  -db /mnt/storage/project_2023/proteomes/yeast.faa  -outfmt 7  >  histone_single/H4_single/yeast.blast\n",
    "!blastp  -query histone_single/H4_single.fa  -db /mnt/storage/project_2023/proteomes/methanocaldococcus.faa  -outfmt 7  >  histone_single/H4_single/methanocaldococcus.blast\n",
    "!blastp  -query histone_single/H4_single.fa  -db /mnt/storage/project_2023/proteomes/thermococcus.faa  -outfmt 7  >  histone_single/H4_single/thermococcus.blast\n",
    "!blastp  -query histone_single/H4_single.fa  -db /mnt/storage/project_2023/proteomes/e.coli.faa  -outfmt 7  >  histone_single/H4_single/e.coli.blast\n",
    "!blastp  -query histone_single/H4_single.fa  -db /mnt/storage/project_2023/proteomes/tuberculosis.faa  -outfmt 7  >  histone_single/H4_single/tuberculosis.blast"
   ]
  },
  {
   "cell_type": "markdown",
   "metadata": {},
   "source": [
    "### Эти команды я запускал локально со своими библиотеками"
   ]
  },
  {
   "cell_type": "code",
   "execution_count": 1,
   "metadata": {},
   "outputs": [],
   "source": [
    "import pandas as pd\n",
    "import math\n",
    "import seaborn as sn"
   ]
  },
  {
   "cell_type": "code",
   "execution_count": 8,
   "metadata": {},
   "outputs": [
    {
     "name": "stdout",
     "output_type": "stream",
     "text": [
      "[{'protein': 'H2A', 'human': 4.94e-91, 'mouse': 4.57e-84, 'zebrafish': 1.06e-81, 'drosophila': 2.34e-69, 'c.elegans': 6.53e-67, 'ciliate': 2.45e-57, 'yeast': 8.88e-63, 'methanocaldococcus': 0.001, 'thermococcus': 0.15, 'e.coli': 1.2, 'tuberculosis': 0.4}, {'protein': 'H2B', 'human': 2.85e-87, 'mouse': 1.15e-83, 'zebrafish': 1.85e-71, 'drosophila': 3.3e-59, 'c.elegans': 5.28e-65, 'ciliate': 1.91e-49, 'yeast': 3.07e-57, 'methanocaldococcus': 2.6, 'thermococcus': 0.17, 'e.coli': 1.8, 'tuberculosis': 2.2}, {'protein': 'H3', 'human': 2.19e-96, 'mouse': 1.54e-96, 'zebrafish': 1.77e-95, 'drosophila': 9.39e-96, 'c.elegans': 4.46e-94, 'ciliate': 8.41e-86, 'yeast': 3.31e-87, 'methanocaldococcus': 0.034, 'thermococcus': 0.057, 'e.coli': 0.9, 'tuberculosis': 4.6}, {'protein': 'H4', 'human': 1.09e-67, 'mouse': 7.6e-68, 'zebrafish': 1.13e-68, 'drosophila': 8.02e-68, 'c.elegans': 6.15e-68, 'ciliate': 1.96e-45, 'yeast': 1.08e-52, 'methanocaldococcus': 8.22e-05, 'thermococcus': 3.31e-05, 'e.coli': 1.3, 'tuberculosis': 0.069}] [{'protein': 'H2A', 'human': 207.93787813125832, 'mouse': 191.89763460659373, 'zebrafish': 186.45112362439372, 'drosophila': 158.02822048721953, 'c.elegans': 152.39679428731273, 'ciliate': 130.35126227610397, 'yeast': 142.8790593016208, 'methanocaldococcus': 6.907755278982137, 'thermococcus': 1.8971199848858813, 'e.coli': -0.1823215567939546, 'tuberculosis': 0.916290731874155}, {'protein': 'H2B', 'human': 199.27758409620142, 'mouse': 190.97480077613062, 'zebrafish': 162.868355963487, 'drosophila': 134.65859801817626, 'c.elegans': 148.0041049468948, 'ciliate': 112.1795663146497, 'yeast': 130.12567273906149, 'methanocaldococcus': -0.9555114450274363, 'thermococcus': 1.7719568419318752, 'e.coli': -0.5877866649021191, 'tuberculosis': -0.7884573603642703}, {'protein': 'H3', 'human': 220.2642673836, 'mouse': 220.61638651100284, 'zebrafish': 218.1746042878486, 'drosophila': 218.80852363420823, 'c.elegans': 214.94784997540833, 'ciliate': 195.89289652350308, 'yeast': 199.127954901093, 'methanocaldococcus': 3.3813947543659757, 'thermococcus': 2.864704011147587, 'e.coli': 0.10536051565782628, 'tuberculosis': -1.5260563034950492}, {'protein': 'H4', 'human': 154.18702353436, 'mouse': 154.54763807630283, 'zebrafish': 156.45356869087087, 'drosophila': 154.4938479017167, 'c.elegans': 154.75933424177668, 'ciliate': 102.94338471148963, 'yeast': 119.65746379455425, 'methanocaldococcus': 9.40635525590214, 'thermococcus': 10.315977275581258, 'e.coli': -0.26236426446749106, 'tuberculosis': 2.6736487743848776}]\n"
     ]
    }
   ],
   "source": [
    "table = []\n",
    "table_log = []\n",
    "for j in ['H2A', 'H2B', 'H3', 'H4']:\n",
    "    d = {}\n",
    "    m = {}\n",
    "    d['protein'] = j\n",
    "    m['protein'] = j\n",
    "    for i in ['human', 'mouse', 'zebrafish', 'drosophila', 'c.elegans', \n",
    "              'ciliate', 'yeast', 'methanocaldococcus', 'thermococcus',\n",
    "              'e.coli', 'tuberculosis']:\n",
    "        with open(f'histone_single/{j}_single/{i}.blast', encoding='utf-8') as f:\n",
    "            for _ in range(5):\n",
    "                f.readline()\n",
    "            d[i] = float(f.readline().split('\\t')[-2])\n",
    "            if d[i] < math.exp(-300):\n",
    "                d[i] = math.exp(-300)\n",
    "            m[i] = -math.log(d[i])\n",
    "    table.append(d)\n",
    "    table_log.append(m)\n",
    "print(table, table_log)"
   ]
  },
  {
   "cell_type": "code",
   "execution_count": 9,
   "metadata": {},
   "outputs": [
    {
     "name": "stdout",
     "output_type": "stream",
     "text": [
      "{'protein': 'NP_001230715.1', 'human': 5.148200222412013e-131, 'mouse': 5.148200222412013e-131, 'zebrafish': 5.148200222412013e-131, 'drosophila': 8.3, 'c.elegans': 7.9, 'ciliate': 0.014, 'yeast': 0.14, 'methanocaldococcus': 1.2, 'thermococcus': 0.23, 'e.coli': 1.5, 'tuberculosis': 3.5} {'protein': 'NP_001230715.1', 'human': 300.0, 'mouse': 300.0, 'zebrafish': 300.0, 'drosophila': -2.1162555148025524, 'c.elegans': -2.066862759472976, 'ciliate': 4.268697949366879, 'yeast': 1.9661128563728327, 'methanocaldococcus': -0.1823215567939546, 'thermococcus': 1.4696759700589417, 'e.coli': -0.4054651081081644, 'tuberculosis': -1.252762968495368}\n"
     ]
    }
   ],
   "source": [
    "gene = {}\n",
    "gene_log = {}\n",
    "gene['protein'] = 'NP_001230715.1'\n",
    "gene_log['protein'] = 'NP_001230715.1'\n",
    "\n",
    "for i in ['human', 'mouse', 'zebrafish', 'drosophila', 'c.elegans', \n",
    "          'ciliate', 'yeast', 'methanocaldococcus', 'thermococcus',\n",
    "          'e.coli', 'tuberculosis']:\n",
    "    with open(f'blasts/{i}.blast', encoding='utf-8') as f:\n",
    "        for _ in range(5):\n",
    "            f.readline()\n",
    "        gene[i] = float(f.readline().split('\\t')[-2])\n",
    "        if gene[i] < math.exp(-300):\n",
    "            gene[i] = math.exp(-300)\n",
    "        gene_log[i] = -math.log(gene[i])\n",
    "table.append(gene)\n",
    "table_log.append(gene_log)\n",
    "print(gene, gene_log)"
   ]
  },
  {
   "cell_type": "code",
   "execution_count": 10,
   "metadata": {},
   "outputs": [
    {
     "data": {
      "text/html": [
       "<div>\n",
       "<style scoped>\n",
       "    .dataframe tbody tr th:only-of-type {\n",
       "        vertical-align: middle;\n",
       "    }\n",
       "\n",
       "    .dataframe tbody tr th {\n",
       "        vertical-align: top;\n",
       "    }\n",
       "\n",
       "    .dataframe thead th {\n",
       "        text-align: right;\n",
       "    }\n",
       "</style>\n",
       "<table border=\"1\" class=\"dataframe\">\n",
       "  <thead>\n",
       "    <tr style=\"text-align: right;\">\n",
       "      <th></th>\n",
       "      <th>human</th>\n",
       "      <th>mouse</th>\n",
       "      <th>zebrafish</th>\n",
       "      <th>drosophila</th>\n",
       "      <th>c.elegans</th>\n",
       "      <th>ciliate</th>\n",
       "      <th>yeast</th>\n",
       "      <th>methanocaldococcus</th>\n",
       "      <th>thermococcus</th>\n",
       "      <th>e.coli</th>\n",
       "      <th>tuberculosis</th>\n",
       "    </tr>\n",
       "    <tr>\n",
       "      <th>protein</th>\n",
       "      <th></th>\n",
       "      <th></th>\n",
       "      <th></th>\n",
       "      <th></th>\n",
       "      <th></th>\n",
       "      <th></th>\n",
       "      <th></th>\n",
       "      <th></th>\n",
       "      <th></th>\n",
       "      <th></th>\n",
       "      <th></th>\n",
       "    </tr>\n",
       "  </thead>\n",
       "  <tbody>\n",
       "    <tr>\n",
       "      <th>H2A</th>\n",
       "      <td>4.940000e-91</td>\n",
       "      <td>4.570000e-84</td>\n",
       "      <td>1.060000e-81</td>\n",
       "      <td>2.340000e-69</td>\n",
       "      <td>6.530000e-67</td>\n",
       "      <td>2.450000e-57</td>\n",
       "      <td>8.880000e-63</td>\n",
       "      <td>0.001000</td>\n",
       "      <td>0.150000</td>\n",
       "      <td>1.2</td>\n",
       "      <td>0.400</td>\n",
       "    </tr>\n",
       "    <tr>\n",
       "      <th>H2B</th>\n",
       "      <td>2.850000e-87</td>\n",
       "      <td>1.150000e-83</td>\n",
       "      <td>1.850000e-71</td>\n",
       "      <td>3.300000e-59</td>\n",
       "      <td>5.280000e-65</td>\n",
       "      <td>1.910000e-49</td>\n",
       "      <td>3.070000e-57</td>\n",
       "      <td>2.600000</td>\n",
       "      <td>0.170000</td>\n",
       "      <td>1.8</td>\n",
       "      <td>2.200</td>\n",
       "    </tr>\n",
       "    <tr>\n",
       "      <th>H3</th>\n",
       "      <td>2.190000e-96</td>\n",
       "      <td>1.540000e-96</td>\n",
       "      <td>1.770000e-95</td>\n",
       "      <td>9.390000e-96</td>\n",
       "      <td>4.460000e-94</td>\n",
       "      <td>8.410000e-86</td>\n",
       "      <td>3.310000e-87</td>\n",
       "      <td>0.034000</td>\n",
       "      <td>0.057000</td>\n",
       "      <td>0.9</td>\n",
       "      <td>4.600</td>\n",
       "    </tr>\n",
       "    <tr>\n",
       "      <th>H4</th>\n",
       "      <td>1.090000e-67</td>\n",
       "      <td>7.600000e-68</td>\n",
       "      <td>1.130000e-68</td>\n",
       "      <td>8.020000e-68</td>\n",
       "      <td>6.150000e-68</td>\n",
       "      <td>1.960000e-45</td>\n",
       "      <td>1.080000e-52</td>\n",
       "      <td>0.000082</td>\n",
       "      <td>0.000033</td>\n",
       "      <td>1.3</td>\n",
       "      <td>0.069</td>\n",
       "    </tr>\n",
       "    <tr>\n",
       "      <th>NP_001230715.1</th>\n",
       "      <td>5.148200e-131</td>\n",
       "      <td>5.148200e-131</td>\n",
       "      <td>5.148200e-131</td>\n",
       "      <td>8.300000e+00</td>\n",
       "      <td>7.900000e+00</td>\n",
       "      <td>1.400000e-02</td>\n",
       "      <td>1.400000e-01</td>\n",
       "      <td>1.200000</td>\n",
       "      <td>0.230000</td>\n",
       "      <td>1.5</td>\n",
       "      <td>3.500</td>\n",
       "    </tr>\n",
       "  </tbody>\n",
       "</table>\n",
       "</div>"
      ],
      "text/plain": [
       "                        human          mouse      zebrafish    drosophila  \\\n",
       "protein                                                                     \n",
       "H2A              4.940000e-91   4.570000e-84   1.060000e-81  2.340000e-69   \n",
       "H2B              2.850000e-87   1.150000e-83   1.850000e-71  3.300000e-59   \n",
       "H3               2.190000e-96   1.540000e-96   1.770000e-95  9.390000e-96   \n",
       "H4               1.090000e-67   7.600000e-68   1.130000e-68  8.020000e-68   \n",
       "NP_001230715.1  5.148200e-131  5.148200e-131  5.148200e-131  8.300000e+00   \n",
       "\n",
       "                   c.elegans       ciliate         yeast  methanocaldococcus  \\\n",
       "protein                                                                        \n",
       "H2A             6.530000e-67  2.450000e-57  8.880000e-63            0.001000   \n",
       "H2B             5.280000e-65  1.910000e-49  3.070000e-57            2.600000   \n",
       "H3              4.460000e-94  8.410000e-86  3.310000e-87            0.034000   \n",
       "H4              6.150000e-68  1.960000e-45  1.080000e-52            0.000082   \n",
       "NP_001230715.1  7.900000e+00  1.400000e-02  1.400000e-01            1.200000   \n",
       "\n",
       "                thermococcus  e.coli  tuberculosis  \n",
       "protein                                             \n",
       "H2A                 0.150000     1.2         0.400  \n",
       "H2B                 0.170000     1.8         2.200  \n",
       "H3                  0.057000     0.9         4.600  \n",
       "H4                  0.000033     1.3         0.069  \n",
       "NP_001230715.1      0.230000     1.5         3.500  "
      ]
     },
     "execution_count": 10,
     "metadata": {},
     "output_type": "execute_result"
    }
   ],
   "source": [
    "df = pd.DataFrame(table)\n",
    "df.set_index('protein', inplace = True)\n",
    "df"
   ]
  },
  {
   "cell_type": "markdown",
   "metadata": {},
   "source": [
    "В первых трёх столбцах в последней строке число, очень близкое к 1e-300: его мне Питон выдал в math.exp(-300)"
   ]
  },
  {
   "cell_type": "code",
   "execution_count": 11,
   "metadata": {},
   "outputs": [
    {
     "data": {
      "text/html": [
       "<div>\n",
       "<style scoped>\n",
       "    .dataframe tbody tr th:only-of-type {\n",
       "        vertical-align: middle;\n",
       "    }\n",
       "\n",
       "    .dataframe tbody tr th {\n",
       "        vertical-align: top;\n",
       "    }\n",
       "\n",
       "    .dataframe thead th {\n",
       "        text-align: right;\n",
       "    }\n",
       "</style>\n",
       "<table border=\"1\" class=\"dataframe\">\n",
       "  <thead>\n",
       "    <tr style=\"text-align: right;\">\n",
       "      <th></th>\n",
       "      <th>human</th>\n",
       "      <th>mouse</th>\n",
       "      <th>zebrafish</th>\n",
       "      <th>drosophila</th>\n",
       "      <th>c.elegans</th>\n",
       "      <th>ciliate</th>\n",
       "      <th>yeast</th>\n",
       "      <th>methanocaldococcus</th>\n",
       "      <th>thermococcus</th>\n",
       "      <th>e.coli</th>\n",
       "      <th>tuberculosis</th>\n",
       "    </tr>\n",
       "    <tr>\n",
       "      <th>protein</th>\n",
       "      <th></th>\n",
       "      <th></th>\n",
       "      <th></th>\n",
       "      <th></th>\n",
       "      <th></th>\n",
       "      <th></th>\n",
       "      <th></th>\n",
       "      <th></th>\n",
       "      <th></th>\n",
       "      <th></th>\n",
       "      <th></th>\n",
       "    </tr>\n",
       "  </thead>\n",
       "  <tbody>\n",
       "    <tr>\n",
       "      <th>H2A</th>\n",
       "      <td>207.937878</td>\n",
       "      <td>191.897635</td>\n",
       "      <td>186.451124</td>\n",
       "      <td>158.028220</td>\n",
       "      <td>152.396794</td>\n",
       "      <td>130.351262</td>\n",
       "      <td>142.879059</td>\n",
       "      <td>6.907755</td>\n",
       "      <td>1.897120</td>\n",
       "      <td>-0.182322</td>\n",
       "      <td>0.916291</td>\n",
       "    </tr>\n",
       "    <tr>\n",
       "      <th>H2B</th>\n",
       "      <td>199.277584</td>\n",
       "      <td>190.974801</td>\n",
       "      <td>162.868356</td>\n",
       "      <td>134.658598</td>\n",
       "      <td>148.004105</td>\n",
       "      <td>112.179566</td>\n",
       "      <td>130.125673</td>\n",
       "      <td>-0.955511</td>\n",
       "      <td>1.771957</td>\n",
       "      <td>-0.587787</td>\n",
       "      <td>-0.788457</td>\n",
       "    </tr>\n",
       "    <tr>\n",
       "      <th>H3</th>\n",
       "      <td>220.264267</td>\n",
       "      <td>220.616387</td>\n",
       "      <td>218.174604</td>\n",
       "      <td>218.808524</td>\n",
       "      <td>214.947850</td>\n",
       "      <td>195.892897</td>\n",
       "      <td>199.127955</td>\n",
       "      <td>3.381395</td>\n",
       "      <td>2.864704</td>\n",
       "      <td>0.105361</td>\n",
       "      <td>-1.526056</td>\n",
       "    </tr>\n",
       "    <tr>\n",
       "      <th>H4</th>\n",
       "      <td>154.187024</td>\n",
       "      <td>154.547638</td>\n",
       "      <td>156.453569</td>\n",
       "      <td>154.493848</td>\n",
       "      <td>154.759334</td>\n",
       "      <td>102.943385</td>\n",
       "      <td>119.657464</td>\n",
       "      <td>9.406355</td>\n",
       "      <td>10.315977</td>\n",
       "      <td>-0.262364</td>\n",
       "      <td>2.673649</td>\n",
       "    </tr>\n",
       "    <tr>\n",
       "      <th>NP_001230715.1</th>\n",
       "      <td>300.000000</td>\n",
       "      <td>300.000000</td>\n",
       "      <td>300.000000</td>\n",
       "      <td>-2.116256</td>\n",
       "      <td>-2.066863</td>\n",
       "      <td>4.268698</td>\n",
       "      <td>1.966113</td>\n",
       "      <td>-0.182322</td>\n",
       "      <td>1.469676</td>\n",
       "      <td>-0.405465</td>\n",
       "      <td>-1.252763</td>\n",
       "    </tr>\n",
       "  </tbody>\n",
       "</table>\n",
       "</div>"
      ],
      "text/plain": [
       "                     human       mouse   zebrafish  drosophila   c.elegans  \\\n",
       "protein                                                                      \n",
       "H2A             207.937878  191.897635  186.451124  158.028220  152.396794   \n",
       "H2B             199.277584  190.974801  162.868356  134.658598  148.004105   \n",
       "H3              220.264267  220.616387  218.174604  218.808524  214.947850   \n",
       "H4              154.187024  154.547638  156.453569  154.493848  154.759334   \n",
       "NP_001230715.1  300.000000  300.000000  300.000000   -2.116256   -2.066863   \n",
       "\n",
       "                   ciliate       yeast  methanocaldococcus  thermococcus  \\\n",
       "protein                                                                    \n",
       "H2A             130.351262  142.879059            6.907755      1.897120   \n",
       "H2B             112.179566  130.125673           -0.955511      1.771957   \n",
       "H3              195.892897  199.127955            3.381395      2.864704   \n",
       "H4              102.943385  119.657464            9.406355     10.315977   \n",
       "NP_001230715.1    4.268698    1.966113           -0.182322      1.469676   \n",
       "\n",
       "                  e.coli  tuberculosis  \n",
       "protein                                 \n",
       "H2A            -0.182322      0.916291  \n",
       "H2B            -0.587787     -0.788457  \n",
       "H3              0.105361     -1.526056  \n",
       "H4             -0.262364      2.673649  \n",
       "NP_001230715.1 -0.405465     -1.252763  "
      ]
     },
     "execution_count": 11,
     "metadata": {},
     "output_type": "execute_result"
    }
   ],
   "source": [
    "df_log = pd.DataFrame(table_log)\n",
    "df_log.set_index('protein', inplace = True)\n",
    "df_log"
   ]
  },
  {
   "cell_type": "code",
   "execution_count": 12,
   "metadata": {
    "scrolled": true
   },
   "outputs": [
    {
     "data": {
      "text/plain": [
       "<AxesSubplot:ylabel='protein'>"
      ]
     },
     "execution_count": 12,
     "metadata": {},
     "output_type": "execute_result"
    },
    {
     "data": {
      "image/png": "[encoded data removed]",
      "text/plain": [
       "<Figure size 432x288 with 2 Axes>"
      ]
     },
     "metadata": {
      "needs_background": "light"
     },
     "output_type": "display_data"
    }
   ],
   "source": [
    "sn.heatmap(data=df_log, cmap='Blues')"
   ]
  },
  {
   "cell_type": "markdown",
   "metadata": {},
   "source": [
    "### Для групповой части"
   ]
  },
  {
   "cell_type": "markdown",
   "metadata": {},
   "source": [
    "Количество хитов в BLAST"
   ]
  },
  {
   "cell_type": "code",
   "execution_count": 5,
   "metadata": {},
   "outputs": [
    {
     "data": {
      "text/html": [
       "<div>\n",
       "<style scoped>\n",
       "    .dataframe tbody tr th:only-of-type {\n",
       "        vertical-align: middle;\n",
       "    }\n",
       "\n",
       "    .dataframe tbody tr th {\n",
       "        vertical-align: top;\n",
       "    }\n",
       "\n",
       "    .dataframe thead th {\n",
       "        text-align: right;\n",
       "    }\n",
       "</style>\n",
       "<table border=\"1\" class=\"dataframe\">\n",
       "  <thead>\n",
       "    <tr style=\"text-align: right;\">\n",
       "      <th></th>\n",
       "      <th>human</th>\n",
       "      <th>mouse</th>\n",
       "      <th>zebrafish</th>\n",
       "      <th>drosophila</th>\n",
       "      <th>c.elegans</th>\n",
       "      <th>ciliate</th>\n",
       "      <th>yeast</th>\n",
       "      <th>methanocaldococcus</th>\n",
       "      <th>thermococcus</th>\n",
       "      <th>e.coli</th>\n",
       "      <th>tuberculosis</th>\n",
       "    </tr>\n",
       "  </thead>\n",
       "  <tbody>\n",
       "    <tr>\n",
       "      <th>0</th>\n",
       "      <td>10</td>\n",
       "      <td>10</td>\n",
       "      <td>34</td>\n",
       "      <td>1</td>\n",
       "      <td>2</td>\n",
       "      <td>11</td>\n",
       "      <td>10</td>\n",
       "      <td>5</td>\n",
       "      <td>8</td>\n",
       "      <td>5</td>\n",
       "      <td>1</td>\n",
       "    </tr>\n",
       "  </tbody>\n",
       "</table>\n",
       "</div>"
      ],
      "text/plain": [
       "   human  mouse  zebrafish  drosophila  c.elegans  ciliate  yeast  \\\n",
       "0     10     10         34           1          2       11     10   \n",
       "\n",
       "   methanocaldococcus  thermococcus  e.coli  tuberculosis  \n",
       "0                   5             8       5             1  "
      ]
     },
     "execution_count": 5,
     "metadata": {},
     "output_type": "execute_result"
    }
   ],
   "source": [
    "hits = {}\n",
    "for i in ['human', 'mouse', 'zebrafish', 'drosophila', 'c.elegans', \n",
    "          'ciliate', 'yeast', 'methanocaldococcus', 'thermococcus',\n",
    "          'e.coli', 'tuberculosis']:\n",
    "    with open(f'blasts/{i}.blast', encoding='utf-8') as f:\n",
    "        for _ in range(4):\n",
    "            f.readline()\n",
    "        hits[i] = int(f.readline().split(' ')[1])\n",
    "df = pd.DataFrame([hits])\n",
    "df"
   ]
  },
  {
   "cell_type": "markdown",
   "metadata": {},
   "source": [
    "#### Про дальних гомологов\n",
    "Как видно по таблице df, все организмы, архаичнее zebrafish, получили очень низкое e-value, ниже 1e-10"
   ]
  }
 ],
 "metadata": {
  "kernelspec": {
   "display_name": "Python 3",
   "language": "python",
   "name": "python3"
  },
  "language_info": {
   "codemirror_mode": {
    "name": "ipython",
    "version": 3
   },
   "file_extension": ".py",
   "mimetype": "text/x-python",
   "name": "python",
   "nbconvert_exporter": "python",
   "pygments_lexer": "ipython3",
   "version": "3.8.3"
  }
 },
 "nbformat": 4,
 "nbformat_minor": 2
}
